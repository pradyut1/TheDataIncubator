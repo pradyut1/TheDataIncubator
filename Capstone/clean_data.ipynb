{
 "cells": [
  {
   "cell_type": "code",
   "execution_count": 33,
   "metadata": {
    "collapsed": false
   },
   "outputs": [],
   "source": [
    "import re \n",
    "\n",
    "with open('amazon_mp3') as f:\n",
    "    lines = f.readlines()\n",
    "    index = 0\n",
    "    with open('amazon_mp3.csv', 'w') as writeFile:\n",
    "        while index < len(lines):\n",
    "            name = re.sub('[^A-Za-z ]+', ' ', lines[index + 4].split(\":\")[1].strip()).lower()\n",
    "            title = re.sub('[^A-Za-z ]+', ' ', lines[index + 5].split(\":\")[1].strip()).lower()\n",
    "            fullText = re.sub('[^A-Za-z ]+', ' ', lines[index + 9].split(\":\")[1].strip()).lower()\n",
    "            rating = lines[index + 10].split(\":\")[1].strip()\n",
    "\n",
    "            writeFile.write(name+\",\"+title+\",\"+fullText+\",\"+rating+\"\\n\")\n",
    "            \n",
    "            index = index + 21"
   ]
  },
  {
   "cell_type": "code",
   "execution_count": null,
   "metadata": {
    "collapsed": true
   },
   "outputs": [],
   "source": []
  }
 ],
 "metadata": {
  "kernelspec": {
   "display_name": "Python 3",
   "language": "python",
   "name": "python3"
  },
  "language_info": {
   "codemirror_mode": {
    "name": "ipython",
    "version": 3
   },
   "file_extension": ".py",
   "mimetype": "text/x-python",
   "name": "python",
   "nbconvert_exporter": "python",
   "pygments_lexer": "ipython3",
   "version": "3.5.2"
  }
 },
 "nbformat": 4,
 "nbformat_minor": 0
}
